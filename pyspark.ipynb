{
 "cells": [
  {
   "cell_type": "code",
   "execution_count": 1,
   "metadata": {},
   "outputs": [
    {
     "data": {
      "text/html": [
       "Current session configs: <tt>{'conf': {'spark.pyspark.python': 'python3', 'spark.pyspark.virtualenv.enabled': 'true', 'spark.pyspark.virtualenv.type': 'native', 'spark.pyspark.virtualenv.bin.path': '/usr/bin/virtualenv'}, 'kind': 'pyspark'}</tt><br>"
      ],
      "text/plain": [
       "<IPython.core.display.HTML object>"
      ]
     },
     "metadata": {},
     "output_type": "display_data"
    },
    {
     "data": {
      "text/html": [
       "<table>\n",
       "<tr><th>ID</th><th>YARN Application ID</th><th>Kind</th><th>State</th><th>Spark UI</th><th>Driver log</th><th>Current session?</th></tr><tr><td>4</td><td>application_1588288938762_0052</td><td>pyspark</td><td>idle</td><td><a target=\"_blank\" href=\"http://ip-172-31-26-232.ec2.internal:20888/proxy/application_1588288938762_0052/\">Link</a></td><td><a target=\"_blank\" href=\"http://ip-172-31-28-142.ec2.internal:8042/node/containerlogs/container_1588288938762_0052_01_000001/livy\">Link</a></td><td></td></tr></table>"
      ],
      "text/plain": [
       "<IPython.core.display.HTML object>"
      ]
     },
     "metadata": {},
     "output_type": "display_data"
    }
   ],
   "source": [
    "%%configure -f\n",
    "{ \"conf\":{\n",
    "\"spark.pyspark.python\": \"python3\",\n",
    "\"spark.pyspark.virtualenv.enabled\": \"true\",\n",
    "\"spark.pyspark.virtualenv.type\":\"native\",\n",
    "\"spark.pyspark.virtualenv.bin.path\":\"/usr/bin/virtualenv\"\n",
    "}}"
   ]
  },
  {
   "cell_type": "code",
   "execution_count": 2,
   "metadata": {},
   "outputs": [
    {
     "data": {
      "application/vnd.jupyter.widget-view+json": {
       "model_id": "a077d7ef64fc45019bdac8bf8cd76764",
       "version_major": 2,
       "version_minor": 0
      },
      "text/plain": [
       "VBox()"
      ]
     },
     "metadata": {},
     "output_type": "display_data"
    },
    {
     "name": "stdout",
     "output_type": "stream",
     "text": [
      "Starting Spark application\n"
     ]
    },
    {
     "data": {
      "text/html": [
       "<table>\n",
       "<tr><th>ID</th><th>YARN Application ID</th><th>Kind</th><th>State</th><th>Spark UI</th><th>Driver log</th><th>Current session?</th></tr><tr><td>5</td><td>application_1588288938762_0053</td><td>pyspark</td><td>idle</td><td><a target=\"_blank\" href=\"http://ip-172-31-26-232.ec2.internal:20888/proxy/application_1588288938762_0053/\">Link</a></td><td><a target=\"_blank\" href=\"http://ip-172-31-25-39.ec2.internal:8042/node/containerlogs/container_1588288938762_0053_01_000001/livy\">Link</a></td><td>✔</td></tr></table>"
      ],
      "text/plain": [
       "<IPython.core.display.HTML object>"
      ]
     },
     "metadata": {},
     "output_type": "display_data"
    },
    {
     "data": {
      "application/vnd.jupyter.widget-view+json": {
       "model_id": "",
       "version_major": 2,
       "version_minor": 0
      },
      "text/plain": [
       "FloatProgress(value=0.0, bar_style='info', description='Progress:', layout=Layout(height='25px', width='50%'),…"
      ]
     },
     "metadata": {},
     "output_type": "display_data"
    },
    {
     "name": "stdout",
     "output_type": "stream",
     "text": [
      "SparkSession available as 'spark'.\n"
     ]
    },
    {
     "data": {
      "application/vnd.jupyter.widget-view+json": {
       "model_id": "",
       "version_major": 2,
       "version_minor": 0
      },
      "text/plain": [
       "FloatProgress(value=0.0, bar_style='info', description='Progress:', layout=Layout(height='25px', width='50%'),…"
      ]
     },
     "metadata": {},
     "output_type": "display_data"
    },
    {
     "name": "stdout",
     "output_type": "stream",
     "text": [
      "<SparkContext master=yarn appName=livy-session-5>"
     ]
    }
   ],
   "source": [
    "sc"
   ]
  },
  {
   "cell_type": "code",
   "execution_count": 3,
   "metadata": {},
   "outputs": [
    {
     "data": {
      "application/vnd.jupyter.widget-view+json": {
       "model_id": "a1889804b8c844f8a495dd5b3ce27df0",
       "version_major": 2,
       "version_minor": 0
      },
      "text/plain": [
       "VBox()"
      ]
     },
     "metadata": {},
     "output_type": "display_data"
    },
    {
     "data": {
      "application/vnd.jupyter.widget-view+json": {
       "model_id": "",
       "version_major": 2,
       "version_minor": 0
      },
      "text/plain": [
       "FloatProgress(value=0.0, bar_style='info', description='Progress:', layout=Layout(height='25px', width='50%'),…"
      ]
     },
     "metadata": {},
     "output_type": "display_data"
    }
   ],
   "source": [
    "#import SparkSession\n",
    "from pyspark.sql import SparkSession"
   ]
  },
  {
   "cell_type": "code",
   "execution_count": 4,
   "metadata": {},
   "outputs": [
    {
     "data": {
      "application/vnd.jupyter.widget-view+json": {
       "model_id": "85127102186a4c7199c95b123176c39c",
       "version_major": 2,
       "version_minor": 0
      },
      "text/plain": [
       "VBox()"
      ]
     },
     "metadata": {},
     "output_type": "display_data"
    },
    {
     "data": {
      "application/vnd.jupyter.widget-view+json": {
       "model_id": "",
       "version_major": 2,
       "version_minor": 0
      },
      "text/plain": [
       "FloatProgress(value=0.0, bar_style='info', description='Progress:', layout=Layout(height='25px', width='50%'),…"
      ]
     },
     "metadata": {},
     "output_type": "display_data"
    }
   ],
   "source": [
    "#create spar session object\n",
    "spark=SparkSession.builder.appName('data_processing').getOrCreate()"
   ]
  },
  {
   "cell_type": "code",
   "execution_count": 13,
   "metadata": {},
   "outputs": [
    {
     "data": {
      "application/vnd.jupyter.widget-view+json": {
       "model_id": "3e9532b3eee44b79b55399c38cbf48ad",
       "version_major": 2,
       "version_minor": 0
      },
      "text/plain": [
       "VBox()"
      ]
     },
     "metadata": {},
     "output_type": "display_data"
    },
    {
     "data": {
      "application/vnd.jupyter.widget-view+json": {
       "model_id": "",
       "version_major": 2,
       "version_minor": 0
      },
      "text/plain": [
       "FloatProgress(value=0.0, bar_style='info', description='Progress:', layout=Layout(height='25px', width='50%'),…"
      ]
     },
     "metadata": {},
     "output_type": "display_data"
    }
   ],
   "source": [
    "# Load csv Dataset \n",
    "dfcolombia=spark.read.csv('s3://asanchezc/covid/data.csv',inferSchema=True,header=True)\n",
    "dfmundoconfirmados=spark.read.csv('s3://asanchezc/covid/time_series_covid19_confirmed_global.csv',inferSchema=True,header=True)"
   ]
  },
  {
   "cell_type": "code",
   "execution_count": 14,
   "metadata": {},
   "outputs": [
    {
     "data": {
      "application/vnd.jupyter.widget-view+json": {
       "model_id": "88f2200eb64b474fbc1e24296dfc4670",
       "version_major": 2,
       "version_minor": 0
      },
      "text/plain": [
       "VBox()"
      ]
     },
     "metadata": {},
     "output_type": "display_data"
    },
    {
     "data": {
      "application/vnd.jupyter.widget-view+json": {
       "model_id": "",
       "version_major": 2,
       "version_minor": 0
      },
      "text/plain": [
       "FloatProgress(value=0.0, bar_style='info', description='Progress:', layout=Layout(height='25px', width='50%'),…"
      ]
     },
     "metadata": {},
     "output_type": "display_data"
    },
    {
     "name": "stdout",
     "output_type": "stream",
     "text": [
      "['ID de caso', 'Fecha de notificación', 'Codigo DIVIPOLA', 'Ciudad de ubicación', 'Departamento o Distrito ', 'atención', 'Edad', 'Sexo', 'Tipo', 'Estado', 'País de procedencia', 'FIS', 'Fecha de muerte', 'Fecha diagnostico', 'Fecha recuperado', 'fecha reporte web']\n",
      "['Province/State', 'Country/Region', 'Lat', 'Long', '1/22/20', '1/23/20', '1/24/20', '1/25/20', '1/26/20', '1/27/20', '1/28/20', '1/29/20', '1/30/20', '1/31/20', '2/1/20', '2/2/20', '2/3/20', '2/4/20', '2/5/20', '2/6/20', '2/7/20', '2/8/20', '2/9/20', '2/10/20', '2/11/20', '2/12/20', '2/13/20', '2/14/20', '2/15/20', '2/16/20', '2/17/20', '2/18/20', '2/19/20', '2/20/20', '2/21/20', '2/22/20', '2/23/20', '2/24/20', '2/25/20', '2/26/20', '2/27/20', '2/28/20', '2/29/20', '3/1/20', '3/2/20', '3/3/20', '3/4/20', '3/5/20', '3/6/20', '3/7/20', '3/8/20', '3/9/20', '3/10/20', '3/11/20', '3/12/20', '3/13/20', '3/14/20', '3/15/20', '3/16/20', '3/17/20', '3/18/20', '3/19/20', '3/20/20', '3/21/20', '3/22/20', '3/23/20', '3/24/20', '3/25/20', '3/26/20', '3/27/20', '3/28/20', '3/29/20', '3/30/20', '3/31/20', '4/1/20', '4/2/20', '4/3/20', '4/4/20', '4/5/20', '4/6/20', '4/7/20', '4/8/20', '4/9/20', '4/10/20', '4/11/20', '4/12/20', '4/13/20', '4/14/20', '4/15/20', '4/16/20', '4/17/20', '4/18/20', '4/19/20', '4/20/20', '4/21/20', '4/22/20', '4/23/20', '4/24/20', '4/25/20', '4/26/20', '4/27/20', '4/28/20', '4/29/20', '4/30/20']"
     ]
    }
   ],
   "source": [
    "#columns of dataframe\n",
    "print(dfcolombia.columns)\n",
    "#columns of dataframe\n",
    "print(dfmundoconfirmados.columns)"
   ]
  },
  {
   "cell_type": "code",
   "execution_count": 15,
   "metadata": {},
   "outputs": [
    {
     "data": {
      "application/vnd.jupyter.widget-view+json": {
       "model_id": "5bcaa8d2197a47448da4627c898d5eb5",
       "version_major": 2,
       "version_minor": 0
      },
      "text/plain": [
       "VBox()"
      ]
     },
     "metadata": {},
     "output_type": "display_data"
    },
    {
     "data": {
      "application/vnd.jupyter.widget-view+json": {
       "model_id": "",
       "version_major": 2,
       "version_minor": 0
      },
      "text/plain": [
       "FloatProgress(value=0.0, bar_style='info', description='Progress:', layout=Layout(height='25px', width='50%'),…"
      ]
     },
     "metadata": {},
     "output_type": "display_data"
    },
    {
     "name": "stdout",
     "output_type": "stream",
     "text": [
      "(6508, 16)\n",
      "(266, 104)"
     ]
    }
   ],
   "source": [
    "#shape of dataset\n",
    "print((dfcolombia.count(),len(dfcolombia.columns)))\n",
    "print((dfmundoconfirmados.count(),len(dfmundoconfirmados.columns)))"
   ]
  },
  {
   "cell_type": "code",
   "execution_count": 16,
   "metadata": {},
   "outputs": [
    {
     "data": {
      "application/vnd.jupyter.widget-view+json": {
       "model_id": "9188fcaf1a7c481889f01f883d788747",
       "version_major": 2,
       "version_minor": 0
      },
      "text/plain": [
       "VBox()"
      ]
     },
     "metadata": {},
     "output_type": "display_data"
    },
    {
     "data": {
      "application/vnd.jupyter.widget-view+json": {
       "model_id": "",
       "version_major": 2,
       "version_minor": 0
      },
      "text/plain": [
       "FloatProgress(value=0.0, bar_style='info', description='Progress:', layout=Layout(height='25px', width='50%'),…"
      ]
     },
     "metadata": {},
     "output_type": "display_data"
    },
    {
     "name": "stdout",
     "output_type": "stream",
     "text": [
      "root\n",
      " |-- ID de caso: string (nullable = true)\n",
      " |-- Fecha de notificación: string (nullable = true)\n",
      " |-- Codigo DIVIPOLA: string (nullable = true)\n",
      " |-- Ciudad de ubicación: string (nullable = true)\n",
      " |-- Departamento o Distrito : string (nullable = true)\n",
      " |-- atención: string (nullable = true)\n",
      " |-- Edad: string (nullable = true)\n",
      " |-- Sexo: string (nullable = true)\n",
      " |-- Tipo: string (nullable = true)\n",
      " |-- Estado: string (nullable = true)\n",
      " |-- País de procedencia: string (nullable = true)\n",
      " |-- FIS: string (nullable = true)\n",
      " |-- Fecha de muerte: string (nullable = true)\n",
      " |-- Fecha diagnostico: string (nullable = true)\n",
      " |-- Fecha recuperado: string (nullable = true)\n",
      " |-- fecha reporte web: string (nullable = true)\n",
      "\n",
      "None\n",
      "root\n",
      " |-- Province/State: string (nullable = true)\n",
      " |-- Country/Region: string (nullable = true)\n",
      " |-- Lat: double (nullable = true)\n",
      " |-- Long: double (nullable = true)\n",
      " |-- 1/22/20: integer (nullable = true)\n",
      " |-- 1/23/20: integer (nullable = true)\n",
      " |-- 1/24/20: integer (nullable = true)\n",
      " |-- 1/25/20: integer (nullable = true)\n",
      " |-- 1/26/20: integer (nullable = true)\n",
      " |-- 1/27/20: integer (nullable = true)\n",
      " |-- 1/28/20: integer (nullable = true)\n",
      " |-- 1/29/20: integer (nullable = true)\n",
      " |-- 1/30/20: integer (nullable = true)\n",
      " |-- 1/31/20: integer (nullable = true)\n",
      " |-- 2/1/20: integer (nullable = true)\n",
      " |-- 2/2/20: integer (nullable = true)\n",
      " |-- 2/3/20: integer (nullable = true)\n",
      " |-- 2/4/20: integer (nullable = true)\n",
      " |-- 2/5/20: integer (nullable = true)\n",
      " |-- 2/6/20: integer (nullable = true)\n",
      " |-- 2/7/20: integer (nullable = true)\n",
      " |-- 2/8/20: integer (nullable = true)\n",
      " |-- 2/9/20: integer (nullable = true)\n",
      " |-- 2/10/20: integer (nullable = true)\n",
      " |-- 2/11/20: integer (nullable = true)\n",
      " |-- 2/12/20: integer (nullable = true)\n",
      " |-- 2/13/20: integer (nullable = true)\n",
      " |-- 2/14/20: integer (nullable = true)\n",
      " |-- 2/15/20: integer (nullable = true)\n",
      " |-- 2/16/20: integer (nullable = true)\n",
      " |-- 2/17/20: integer (nullable = true)\n",
      " |-- 2/18/20: integer (nullable = true)\n",
      " |-- 2/19/20: integer (nullable = true)\n",
      " |-- 2/20/20: integer (nullable = true)\n",
      " |-- 2/21/20: integer (nullable = true)\n",
      " |-- 2/22/20: integer (nullable = true)\n",
      " |-- 2/23/20: integer (nullable = true)\n",
      " |-- 2/24/20: integer (nullable = true)\n",
      " |-- 2/25/20: integer (nullable = true)\n",
      " |-- 2/26/20: integer (nullable = true)\n",
      " |-- 2/27/20: integer (nullable = true)\n",
      " |-- 2/28/20: integer (nullable = true)\n",
      " |-- 2/29/20: integer (nullable = true)\n",
      " |-- 3/1/20: integer (nullable = true)\n",
      " |-- 3/2/20: integer (nullable = true)\n",
      " |-- 3/3/20: integer (nullable = true)\n",
      " |-- 3/4/20: integer (nullable = true)\n",
      " |-- 3/5/20: integer (nullable = true)\n",
      " |-- 3/6/20: integer (nullable = true)\n",
      " |-- 3/7/20: integer (nullable = true)\n",
      " |-- 3/8/20: integer (nullable = true)\n",
      " |-- 3/9/20: integer (nullable = true)\n",
      " |-- 3/10/20: integer (nullable = true)\n",
      " |-- 3/11/20: integer (nullable = true)\n",
      " |-- 3/12/20: integer (nullable = true)\n",
      " |-- 3/13/20: integer (nullable = true)\n",
      " |-- 3/14/20: integer (nullable = true)\n",
      " |-- 3/15/20: integer (nullable = true)\n",
      " |-- 3/16/20: integer (nullable = true)\n",
      " |-- 3/17/20: integer (nullable = true)\n",
      " |-- 3/18/20: integer (nullable = true)\n",
      " |-- 3/19/20: integer (nullable = true)\n",
      " |-- 3/20/20: integer (nullable = true)\n",
      " |-- 3/21/20: integer (nullable = true)\n",
      " |-- 3/22/20: integer (nullable = true)\n",
      " |-- 3/23/20: integer (nullable = true)\n",
      " |-- 3/24/20: integer (nullable = true)\n",
      " |-- 3/25/20: integer (nullable = true)\n",
      " |-- 3/26/20: integer (nullable = true)\n",
      " |-- 3/27/20: integer (nullable = true)\n",
      " |-- 3/28/20: integer (nullable = true)\n",
      " |-- 3/29/20: integer (nullable = true)\n",
      " |-- 3/30/20: integer (nullable = true)\n",
      " |-- 3/31/20: integer (nullable = true)\n",
      " |-- 4/1/20: integer (nullable = true)\n",
      " |-- 4/2/20: integer (nullable = true)\n",
      " |-- 4/3/20: integer (nullable = true)\n",
      " |-- 4/4/20: integer (nullable = true)\n",
      " |-- 4/5/20: integer (nullable = true)\n",
      " |-- 4/6/20: integer (nullable = true)\n",
      " |-- 4/7/20: integer (nullable = true)\n",
      " |-- 4/8/20: integer (nullable = true)\n",
      " |-- 4/9/20: integer (nullable = true)\n",
      " |-- 4/10/20: integer (nullable = true)\n",
      " |-- 4/11/20: integer (nullable = true)\n",
      " |-- 4/12/20: integer (nullable = true)\n",
      " |-- 4/13/20: integer (nullable = true)\n",
      " |-- 4/14/20: integer (nullable = true)\n",
      " |-- 4/15/20: integer (nullable = true)\n",
      " |-- 4/16/20: integer (nullable = true)\n",
      " |-- 4/17/20: integer (nullable = true)\n",
      " |-- 4/18/20: integer (nullable = true)\n",
      " |-- 4/19/20: integer (nullable = true)\n",
      " |-- 4/20/20: integer (nullable = true)\n",
      " |-- 4/21/20: integer (nullable = true)\n",
      " |-- 4/22/20: integer (nullable = true)\n",
      " |-- 4/23/20: integer (nullable = true)\n",
      " |-- 4/24/20: integer (nullable = true)\n",
      " |-- 4/25/20: integer (nullable = true)\n",
      " |-- 4/26/20: integer (nullable = true)\n",
      " |-- 4/27/20: integer (nullable = true)\n",
      " |-- 4/28/20: integer (nullable = true)\n",
      " |-- 4/29/20: integer (nullable = true)\n",
      " |-- 4/30/20: integer (nullable = true)\n",
      "\n",
      "None"
     ]
    }
   ],
   "source": [
    "#printSchema\n",
    "print(dfcolombia.printSchema())\n",
    "print(dfmundoconfirmados.printSchema())"
   ]
  },
  {
   "cell_type": "code",
   "execution_count": 20,
   "metadata": {},
   "outputs": [
    {
     "data": {
      "application/vnd.jupyter.widget-view+json": {
       "model_id": "bf917c9ed6574b67aa2b5c136a394a53",
       "version_major": 2,
       "version_minor": 0
      },
      "text/plain": [
       "VBox()"
      ]
     },
     "metadata": {},
     "output_type": "display_data"
    },
    {
     "data": {
      "application/vnd.jupyter.widget-view+json": {
       "model_id": "",
       "version_major": 2,
       "version_minor": 0
      },
      "text/plain": [
       "FloatProgress(value=0.0, bar_style='info', description='Progress:', layout=Layout(height='25px', width='50%'),…"
      ]
     },
     "metadata": {},
     "output_type": "display_data"
    },
    {
     "name": "stdout",
     "output_type": "stream",
     "text": [
      "+--------------------+\n",
      "|            atención|\n",
      "+--------------------+\n",
      "|                CASA|\n",
      "|        Hospital UCI|\n",
      "|           Fallecido|\n",
      "|#indicator+infect...|\n",
      "|                Casa|\n",
      "|            Hospital|\n",
      "|                 N/A|\n",
      "|                casa|\n",
      "|          Recuperado|\n",
      "+--------------------+\n",
      "\n",
      "+-------+\n",
      "|4/30/20|\n",
      "+-------+\n",
      "|   2171|\n",
      "|    773|\n",
      "|   4006|\n",
      "|    745|\n",
      "|     27|\n",
      "+-------+\n",
      "only showing top 5 rows"
     ]
    }
   ],
   "source": [
    "#fisrt few rows of dataframe\n",
    "dfcolombia.select('atención').distinct().show(30)\n",
    "dfmundoconfirmados.select('4/30/20').show(5)"
   ]
  },
  {
   "cell_type": "code",
   "execution_count": 28,
   "metadata": {},
   "outputs": [
    {
     "data": {
      "application/vnd.jupyter.widget-view+json": {
       "model_id": "62289e31306644bb9f0af0c15a60451f",
       "version_major": 2,
       "version_minor": 0
      },
      "text/plain": [
       "VBox()"
      ]
     },
     "metadata": {},
     "output_type": "display_data"
    },
    {
     "data": {
      "application/vnd.jupyter.widget-view+json": {
       "model_id": "",
       "version_major": 2,
       "version_minor": 0
      },
      "text/plain": [
       "FloatProgress(value=0.0, bar_style='info', description='Progress:', layout=Layout(height='25px', width='50%'),…"
      ]
     },
     "metadata": {},
     "output_type": "display_data"
    },
    {
     "name": "stdout",
     "output_type": "stream",
     "text": [
      "+------------+\n",
      "|sum(4/30/20)|\n",
      "+------------+\n",
      "|     3256846|\n",
      "+------------+\n",
      "\n",
      "4776"
     ]
    }
   ],
   "source": [
    "dfmundoconfirmados.select('4/30/20').groupby().sum().show()\n",
    "dfcolombia.filter((dfcolombia['atención']!='Fallecido')&(dfcolombia['atención']!='Recuperado')).count()"
   ]
  },
  {
   "cell_type": "code",
   "execution_count": null,
   "metadata": {},
   "outputs": [],
   "source": []
  }
 ],
 "metadata": {
  "kernelspec": {
   "display_name": "PySpark",
   "language": "",
   "name": "pysparkkernel"
  },
  "language_info": {
   "codemirror_mode": {
    "name": "python",
    "version": 2
   },
   "mimetype": "text/x-python",
   "name": "pyspark",
   "pygments_lexer": "python2"
  }
 },
 "nbformat": 4,
 "nbformat_minor": 4
}
