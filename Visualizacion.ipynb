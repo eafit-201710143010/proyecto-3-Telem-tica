{
  "nbformat": 4,
  "nbformat_minor": 0,
  "metadata": {
    "colab": {
      "name": "Visualizacion.ipynb",
      "provenance": []
    },
    "kernelspec": {
      "name": "python3",
      "display_name": "Python 3"
    }
  },
  "cells": [
    {
      "cell_type": "code",
      "metadata": {
        "id": "qjiOVfDg2CuE",
        "colab_type": "code",
        "colab": {}
      },
      "source": [
        "#Inicialización del entorno\n",
        "\n",
        "!apt-get install openjdk-8-jdk-headless -qq > /dev/null\n",
        "!wget -q https://downloads.apache.org/spark/spark-2.4.5/spark-2.4.5-bin-hadoop2.6.tgz\n",
        "!tar xf spark-2.4.5-bin-hadoop2.6.tgz\n",
        "!pip install -q findspark"
      ],
      "execution_count": 0,
      "outputs": []
    },
    {
      "cell_type": "code",
      "metadata": {
        "id": "J8ZOUjry2FA2",
        "colab_type": "code",
        "colab": {}
      },
      "source": [
        "#Importe de bibliotecas necesarias\n",
        "\n",
        "import os\n",
        "os.environ[\"JAVA_HOME\"] = \"/usr/lib/jvm/java-8-openjdk-amd64\"\n",
        "os.environ[\"SPARK_HOME\"] = \"/content/spark-2.4.5-bin-hadoop2.6\"\n",
        "import matplotlib.pyplot as plt\n",
        "import pandas as pd\n",
        "import findspark\n",
        "findspark.init()\n",
        "from pyspark.sql import SparkSession\n",
        "spark = SparkSession.builder.master(\"local[*]\").getOrCreate()\n",
        "sc = spark.sparkContext"
      ],
      "execution_count": 0,
      "outputs": []
    },
    {
      "cell_type": "code",
      "metadata": {
        "id": "Zzry_teuOdwG",
        "colab_type": "code",
        "colab": {}
      },
      "source": [
        "#Lectura de datos de google Drive\n",
        "\n",
        "dfcolombia=spark.read.csv('drive/My Drive/data.csv',inferSchema=True,header=True)\n",
        "mundoC=spark.read.csv('drive/My Drive/time_series_covid19_confirmed_global.csv',inferSchema=True,header=True)\n",
        "mundoM=spark.read.csv('drive/My Drive/time_series_covid19_deaths_global.csv',inferSchema=True,header=True)\n",
        "mundoR=spark.read.csv('drive/My Drive/time_series_covid19_recovered_global.csv',inferSchema=True,header=True)"
      ],
      "execution_count": 0,
      "outputs": []
    },
    {
      "cell_type": "code",
      "metadata": {
        "id": "kwuq6DEo4Ppd",
        "colab_type": "code",
        "outputId": "79114dba-2e90-461a-fa12-db47e4327ce7",
        "colab": {
          "base_uri": "https://localhost:8080/",
          "height": 1000
        }
      },
      "source": [
        "#Exploración de los datos\n",
        "\n",
        "print(dfcolombia.columns)\n",
        "print((dfcolombia.count(),len(dfcolombia.columns)))\n",
        "print(dfcolombia.printSchema())\n",
        "\n",
        "print(mundoC.columns)\n",
        "print((mundoC.count(),len(mundoC.columns)))\n",
        "print(mundoC.printSchema())"
      ],
      "execution_count": 4,
      "outputs": [
        {
          "output_type": "stream",
          "text": [
            "['ID de caso', 'Fecha de notificación', 'Codigo DIVIPOLA', 'Ciudad de ubicación', 'Departamento o Distrito ', 'atención', 'Edad', 'Sexo', 'Tipo', 'Estado', 'País de procedencia', 'FIS', 'Fecha de muerte', 'Fecha diagnostico', 'Fecha recuperado', 'fecha reporte web']\n",
            "(6508, 16)\n",
            "root\n",
            " |-- ID de caso: string (nullable = true)\n",
            " |-- Fecha de notificación: string (nullable = true)\n",
            " |-- Codigo DIVIPOLA: string (nullable = true)\n",
            " |-- Ciudad de ubicación: string (nullable = true)\n",
            " |-- Departamento o Distrito : string (nullable = true)\n",
            " |-- atención: string (nullable = true)\n",
            " |-- Edad: string (nullable = true)\n",
            " |-- Sexo: string (nullable = true)\n",
            " |-- Tipo: string (nullable = true)\n",
            " |-- Estado: string (nullable = true)\n",
            " |-- País de procedencia: string (nullable = true)\n",
            " |-- FIS: string (nullable = true)\n",
            " |-- Fecha de muerte: string (nullable = true)\n",
            " |-- Fecha diagnostico: string (nullable = true)\n",
            " |-- Fecha recuperado: string (nullable = true)\n",
            " |-- fecha reporte web: string (nullable = true)\n",
            "\n",
            "None\n",
            "['Province/State', 'Country/Region', 'Lat', 'Long', '1/22/20', '1/23/20', '1/24/20', '1/25/20', '1/26/20', '1/27/20', '1/28/20', '1/29/20', '1/30/20', '1/31/20', '2/1/20', '2/2/20', '2/3/20', '2/4/20', '2/5/20', '2/6/20', '2/7/20', '2/8/20', '2/9/20', '2/10/20', '2/11/20', '2/12/20', '2/13/20', '2/14/20', '2/15/20', '2/16/20', '2/17/20', '2/18/20', '2/19/20', '2/20/20', '2/21/20', '2/22/20', '2/23/20', '2/24/20', '2/25/20', '2/26/20', '2/27/20', '2/28/20', '2/29/20', '3/1/20', '3/2/20', '3/3/20', '3/4/20', '3/5/20', '3/6/20', '3/7/20', '3/8/20', '3/9/20', '3/10/20', '3/11/20', '3/12/20', '3/13/20', '3/14/20', '3/15/20', '3/16/20', '3/17/20', '3/18/20', '3/19/20', '3/20/20', '3/21/20', '3/22/20', '3/23/20', '3/24/20', '3/25/20', '3/26/20', '3/27/20', '3/28/20', '3/29/20', '3/30/20', '3/31/20', '4/1/20', '4/2/20', '4/3/20', '4/4/20', '4/5/20', '4/6/20', '4/7/20', '4/8/20', '4/9/20', '4/10/20', '4/11/20', '4/12/20', '4/13/20', '4/14/20', '4/15/20', '4/16/20', '4/17/20', '4/18/20', '4/19/20', '4/20/20', '4/21/20', '4/22/20', '4/23/20', '4/24/20', '4/25/20', '4/26/20', '4/27/20', '4/28/20', '4/29/20', '4/30/20']\n",
            "(266, 104)\n",
            "root\n",
            " |-- Province/State: string (nullable = true)\n",
            " |-- Country/Region: string (nullable = true)\n",
            " |-- Lat: double (nullable = true)\n",
            " |-- Long: double (nullable = true)\n",
            " |-- 1/22/20: integer (nullable = true)\n",
            " |-- 1/23/20: integer (nullable = true)\n",
            " |-- 1/24/20: integer (nullable = true)\n",
            " |-- 1/25/20: integer (nullable = true)\n",
            " |-- 1/26/20: integer (nullable = true)\n",
            " |-- 1/27/20: integer (nullable = true)\n",
            " |-- 1/28/20: integer (nullable = true)\n",
            " |-- 1/29/20: integer (nullable = true)\n",
            " |-- 1/30/20: integer (nullable = true)\n",
            " |-- 1/31/20: integer (nullable = true)\n",
            " |-- 2/1/20: integer (nullable = true)\n",
            " |-- 2/2/20: integer (nullable = true)\n",
            " |-- 2/3/20: integer (nullable = true)\n",
            " |-- 2/4/20: integer (nullable = true)\n",
            " |-- 2/5/20: integer (nullable = true)\n",
            " |-- 2/6/20: integer (nullable = true)\n",
            " |-- 2/7/20: integer (nullable = true)\n",
            " |-- 2/8/20: integer (nullable = true)\n",
            " |-- 2/9/20: integer (nullable = true)\n",
            " |-- 2/10/20: integer (nullable = true)\n",
            " |-- 2/11/20: integer (nullable = true)\n",
            " |-- 2/12/20: integer (nullable = true)\n",
            " |-- 2/13/20: integer (nullable = true)\n",
            " |-- 2/14/20: integer (nullable = true)\n",
            " |-- 2/15/20: integer (nullable = true)\n",
            " |-- 2/16/20: integer (nullable = true)\n",
            " |-- 2/17/20: integer (nullable = true)\n",
            " |-- 2/18/20: integer (nullable = true)\n",
            " |-- 2/19/20: integer (nullable = true)\n",
            " |-- 2/20/20: integer (nullable = true)\n",
            " |-- 2/21/20: integer (nullable = true)\n",
            " |-- 2/22/20: integer (nullable = true)\n",
            " |-- 2/23/20: integer (nullable = true)\n",
            " |-- 2/24/20: integer (nullable = true)\n",
            " |-- 2/25/20: integer (nullable = true)\n",
            " |-- 2/26/20: integer (nullable = true)\n",
            " |-- 2/27/20: integer (nullable = true)\n",
            " |-- 2/28/20: integer (nullable = true)\n",
            " |-- 2/29/20: integer (nullable = true)\n",
            " |-- 3/1/20: integer (nullable = true)\n",
            " |-- 3/2/20: integer (nullable = true)\n",
            " |-- 3/3/20: integer (nullable = true)\n",
            " |-- 3/4/20: integer (nullable = true)\n",
            " |-- 3/5/20: integer (nullable = true)\n",
            " |-- 3/6/20: integer (nullable = true)\n",
            " |-- 3/7/20: integer (nullable = true)\n",
            " |-- 3/8/20: integer (nullable = true)\n",
            " |-- 3/9/20: integer (nullable = true)\n",
            " |-- 3/10/20: integer (nullable = true)\n",
            " |-- 3/11/20: integer (nullable = true)\n",
            " |-- 3/12/20: integer (nullable = true)\n",
            " |-- 3/13/20: integer (nullable = true)\n",
            " |-- 3/14/20: integer (nullable = true)\n",
            " |-- 3/15/20: integer (nullable = true)\n",
            " |-- 3/16/20: integer (nullable = true)\n",
            " |-- 3/17/20: integer (nullable = true)\n",
            " |-- 3/18/20: integer (nullable = true)\n",
            " |-- 3/19/20: integer (nullable = true)\n",
            " |-- 3/20/20: integer (nullable = true)\n",
            " |-- 3/21/20: integer (nullable = true)\n",
            " |-- 3/22/20: integer (nullable = true)\n",
            " |-- 3/23/20: integer (nullable = true)\n",
            " |-- 3/24/20: integer (nullable = true)\n",
            " |-- 3/25/20: integer (nullable = true)\n",
            " |-- 3/26/20: integer (nullable = true)\n",
            " |-- 3/27/20: integer (nullable = true)\n",
            " |-- 3/28/20: integer (nullable = true)\n",
            " |-- 3/29/20: integer (nullable = true)\n",
            " |-- 3/30/20: integer (nullable = true)\n",
            " |-- 3/31/20: integer (nullable = true)\n",
            " |-- 4/1/20: integer (nullable = true)\n",
            " |-- 4/2/20: integer (nullable = true)\n",
            " |-- 4/3/20: integer (nullable = true)\n",
            " |-- 4/4/20: integer (nullable = true)\n",
            " |-- 4/5/20: integer (nullable = true)\n",
            " |-- 4/6/20: integer (nullable = true)\n",
            " |-- 4/7/20: integer (nullable = true)\n",
            " |-- 4/8/20: integer (nullable = true)\n",
            " |-- 4/9/20: integer (nullable = true)\n",
            " |-- 4/10/20: integer (nullable = true)\n",
            " |-- 4/11/20: integer (nullable = true)\n",
            " |-- 4/12/20: integer (nullable = true)\n",
            " |-- 4/13/20: integer (nullable = true)\n",
            " |-- 4/14/20: integer (nullable = true)\n",
            " |-- 4/15/20: integer (nullable = true)\n",
            " |-- 4/16/20: integer (nullable = true)\n",
            " |-- 4/17/20: integer (nullable = true)\n",
            " |-- 4/18/20: integer (nullable = true)\n",
            " |-- 4/19/20: integer (nullable = true)\n",
            " |-- 4/20/20: integer (nullable = true)\n",
            " |-- 4/21/20: integer (nullable = true)\n",
            " |-- 4/22/20: integer (nullable = true)\n",
            " |-- 4/23/20: integer (nullable = true)\n",
            " |-- 4/24/20: integer (nullable = true)\n",
            " |-- 4/25/20: integer (nullable = true)\n",
            " |-- 4/26/20: integer (nullable = true)\n",
            " |-- 4/27/20: integer (nullable = true)\n",
            " |-- 4/28/20: integer (nullable = true)\n",
            " |-- 4/29/20: integer (nullable = true)\n",
            " |-- 4/30/20: integer (nullable = true)\n",
            "\n",
            "None\n"
          ],
          "name": "stdout"
        }
      ]
    },
    {
      "cell_type": "code",
      "metadata": {
        "id": "v1Q0c7HwLlBo",
        "colab_type": "code",
        "outputId": "1ae1474d-b2c3-4a50-c11d-db57fff2cfd7",
        "colab": {
          "base_uri": "https://localhost:8080/",
          "height": 136
        }
      },
      "source": [
        "#Valor confirmados mundiales y colombianos\n",
        "\n",
        "mundoC.select('4/30/20').groupby().sum().show()\n",
        "dfcolombia.filter((dfcolombia['atención']!='Fallecido')&(dfcolombia['atención']!='Recuperado')).count()"
      ],
      "execution_count": 5,
      "outputs": [
        {
          "output_type": "stream",
          "text": [
            "+------------+\n",
            "|sum(4/30/20)|\n",
            "+------------+\n",
            "|     3256846|\n",
            "+------------+\n",
            "\n"
          ],
          "name": "stdout"
        },
        {
          "output_type": "execute_result",
          "data": {
            "text/plain": [
              "4776"
            ]
          },
          "metadata": {
            "tags": []
          },
          "execution_count": 5
        }
      ]
    },
    {
      "cell_type": "code",
      "metadata": {
        "id": "3Tf0342zMLiW",
        "colab_type": "code",
        "colab": {}
      },
      "source": [
        "#Transformado a pandas para graficar\n",
        "\n",
        "mundoC = mundoC.toPandas()\n",
        "dfcolombia = dfcolombia.toPandas()"
      ],
      "execution_count": 0,
      "outputs": []
    },
    {
      "cell_type": "code",
      "metadata": {
        "id": "YpsM4g6a3H5_",
        "colab_type": "code",
        "outputId": "7aa1fb44-458d-47e2-99de-87ea010d7bf8",
        "colab": {
          "base_uri": "https://localhost:8080/",
          "height": 276
        }
      },
      "source": [
        "#Graficando confirmados mundo vs tiempo\n",
        "mundoC = mundoC[mundoC.columns[4:]].sum()\n",
        "my_plot = mundoC.plot(kind=\"line\")\n",
        "plt.show()"
      ],
      "execution_count": 7,
      "outputs": [
        {
          "output_type": "display_data",
          "data": {
            "image/png": "[encoded data removed]",
            "text/plain": [
              "<Figure size 432x288 with 1 Axes>"
            ]
          },
          "metadata": {
            "tags": [],
            "needs_background": "light"
          }
        }
      ]
    },
    {
      "cell_type": "code",
      "metadata": {
        "id": "cY1-rfezEw3S",
        "colab_type": "code",
        "outputId": "e1032cbd-0a75-4c04-ceed-aed035f62265",
        "colab": {
          "base_uri": "https://localhost:8080/",
          "height": 1000
        }
      },
      "source": [
        "#Tratamiento de datos a dfcolombia para gráfico\n",
        "\n",
        "dfcolombia = dfcolombia['Fecha de notificación'].str[:10]\n",
        "\n",
        "dfcolombia = dfcolombia.value_counts()\n",
        "\n",
        "dfcolombia = dfcolombia.sort_index(ascending=True)\n",
        "\n",
        "acum = 0\n",
        "for i in range(len(dfcolombia)):\n",
        "  acum += dfcolombia[dfcolombia.index[i]]\n",
        "  dfcolombia[dfcolombia.index[i]] = acum\n",
        "\n",
        "dfcolombia"
      ],
      "execution_count": 8,
      "outputs": [
        {
          "output_type": "execute_result",
          "data": {
            "text/plain": [
              "#date+noti       1\n",
              "2020-03-02       2\n",
              "2020-03-06       3\n",
              "2020-03-07       4\n",
              "2020-03-08       6\n",
              "2020-03-09       9\n",
              "2020-03-10      13\n",
              "2020-03-11      21\n",
              "2020-03-12      33\n",
              "2020-03-13      46\n",
              "2020-03-14      66\n",
              "2020-03-15      85\n",
              "2020-03-16     113\n",
              "2020-03-17     155\n",
              "2020-03-18     199\n",
              "2020-03-19     269\n",
              "2020-03-20     345\n",
              "2020-03-21     422\n",
              "2020-03-22     503\n",
              "2020-03-23     596\n",
              "2020-03-24     727\n",
              "2020-03-25     884\n",
              "2020-03-26    1037\n",
              "2020-03-27    1195\n",
              "2020-03-28    1358\n",
              "2020-03-29    1495\n",
              "2020-03-30    1686\n",
              "2020-03-31    1874\n",
              "2020-04-01    2067\n",
              "2020-04-02    2218\n",
              "2020-04-03    2402\n",
              "2020-04-04    2556\n",
              "2020-04-05    2652\n",
              "2020-04-06    2776\n",
              "2020-04-07    2918\n",
              "2020-04-08    3040\n",
              "2020-04-09    3172\n",
              "2020-04-10    3288\n",
              "2020-04-11    3524\n",
              "2020-04-12    3672\n",
              "2020-04-13    3848\n",
              "2020-04-14    4059\n",
              "2020-04-15    4203\n",
              "2020-04-16    4437\n",
              "2020-04-17    4581\n",
              "2020-04-18    4759\n",
              "2020-04-19    4949\n",
              "2020-04-20    5126\n",
              "2020-04-21    5329\n",
              "2020-04-22    5568\n",
              "2020-04-23    5736\n",
              "2020-04-24    5888\n",
              "2020-04-25    6105\n",
              "2020-04-26    6237\n",
              "2020-04-27    6343\n",
              "2020-04-28    6479\n",
              "2020-04-29    6500\n",
              "2020-04-30    6508\n",
              "Name: Fecha de notificación, dtype: int64"
            ]
          },
          "metadata": {
            "tags": []
          },
          "execution_count": 8
        }
      ]
    },
    {
      "cell_type": "code",
      "metadata": {
        "id": "XnhOc_VzN-Qs",
        "colab_type": "code",
        "outputId": "eb3fb1e0-814c-4dac-c606-29df8289da6f",
        "colab": {
          "base_uri": "https://localhost:8080/",
          "height": 265
        }
      },
      "source": [
        "#Gráfica confirmados Colombia vs tiempo\n",
        "\n",
        "my_plot = dfcolombia.plot(kind=\"line\")\n",
        "plt.show()"
      ],
      "execution_count": 9,
      "outputs": [
        {
          "output_type": "display_data",
          "data": {
            "image/png": "[encoded data removed]",
            "text/plain": [
              "<Figure size 432x288 with 1 Axes>"
            ]
          },
          "metadata": {
            "tags": [],
            "needs_background": "light"
          }
        }
      ]
    },
    {
      "cell_type": "code",
      "metadata": {
        "id": "Q_ObSodZVc0V",
        "colab_type": "code",
        "outputId": "8ea788e4-beef-4575-e35f-75ccc71aa64b",
        "colab": {
          "base_uri": "https://localhost:8080/",
          "height": 248
        }
      },
      "source": [
        "#Gráfica en porcentage mundo vs colombia\n",
        "\n",
        "mvsc = pd.Series([dfcolombia[len(dfcolombia)-1], mundoC[len(mundoC)-1]],index=['Colombia', 'Mundo'])\n",
        "plot = mvsc.plot(kind='pie')\n",
        "plt.show()"
      ],
      "execution_count": 11,
      "outputs": [
        {
          "output_type": "display_data",
          "data": {
            "image/png": "[encoded data removed]",
            "text/plain": [
              "<Figure size 432x288 with 1 Axes>"
            ]
          },
          "metadata": {
            "tags": []
          }
        }
      ]
    }
  ]
}